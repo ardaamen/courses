{
 "cells": [
  {
   "cell_type": "markdown",
   "metadata": {
    "slideshow": {
     "slide_type": "slide"
    }
   },
   "source": [
    "<img src=\"images/python-logo-master.png\" style=\"width:25%;height:25%\"></img>\n",
    "# Introduction to Python\n",
    "\n",
    "## School of Medicine Research Computing\n",
    "**Christina Gancayco**<br>\n",
    "**February 15, 2018**<br>\n",
    "**gancayco@virginia.edu**<br>\n"
   ]
  },
  {
   "cell_type": "markdown",
   "metadata": {
    "slideshow": {
     "slide_type": "slide"
    }
   },
   "source": [
    "## Free Workshops at UVA\n",
    "### <a hyperlink=\"https://education.cadre.virginia.edu/\">https://education.cadre.virginia.edu/</a>"
   ]
  },
  {
   "cell_type": "markdown",
   "metadata": {
    "slideshow": {
     "slide_type": "slide"
    }
   },
   "source": [
    "## Outline\n",
    "* Anaconda and Spyder\n",
    "* Jupyter Notebooks\n",
    "* Math and Variables\n",
    "* Loops\n",
    "* Logics and Conditionals\n",
    "* Functions\n",
    "* Modules\n",
    "* File I/O\n",
    "* Function Documentation"
   ]
  },
  {
   "cell_type": "markdown",
   "metadata": {
    "slideshow": {
     "slide_type": "slide"
    }
   },
   "source": [
    "## Anaconda and Spyder\n",
    "\n",
    "### <a hyperlink=\"https://www.anaconda.com/\">https://www.anaconda.com/</a>\n"
   ]
  },
  {
   "cell_type": "markdown",
   "metadata": {
    "slideshow": {
     "slide_type": "slide"
    }
   },
   "source": [
    "<img src=\"images/logo-anaconda.png\" style=\"width:20%;height:20%\"></img>\n",
    "### Anaconda Navigator\n",
    "\n",
    "Anaconda is an open source distribution of Python (and R!) distribution for data analysis and for simplifying package management and deployment."
   ]
  },
  {
   "cell_type": "markdown",
   "metadata": {
    "slideshow": {
     "slide_type": "slide"
    }
   },
   "source": [
    "<img src=\"images/spyder_bbg.png\"></img>\n",
    "\n",
    "### Spyder\n",
    "Spyder (Scientific PYthon Development EnviRonment) is the IDE packaged with Anaconda. This is where you will typically develop and run code."
   ]
  },
  {
   "cell_type": "markdown",
   "metadata": {
    "slideshow": {
     "slide_type": "slide"
    }
   },
   "source": [
    "<img src=\"images/jupyter.png\" style=\"width:20%;height:20%\"></img>\n",
    "## Jupyter Notebooks\n",
    "\n",
    "Jupyter is a Python package and web-based notebook environment for interactive computing. It's great for combining code and rich text elements, which can be useful for sharing descriptions of an analysis and its results. Users can run data analysis in real-time. These slides are a Jupyter Notebook!"
   ]
  },
  {
   "cell_type": "markdown",
   "metadata": {
    "slideshow": {
     "slide_type": "slide"
    }
   },
   "source": [
    "### How To Use the Jupyter Notebook\n",
    "\n",
    "* A cell is a section of the Jupyter Notebook. Click on a cell to edit code.\n",
    "* Run a cell and the code within it, click the Run button in the toolbar or press Ctrl + Enter (Cmd + Return on Mac)."
   ]
  },
  {
   "cell_type": "markdown",
   "metadata": {
    "slideshow": {
     "slide_type": "slide"
    }
   },
   "source": [
    "## Let's Get Started: Hello World!\n"
   ]
  },
  {
   "cell_type": "code",
   "execution_count": 1,
   "metadata": {
    "slideshow": {
     "slide_type": "slide"
    }
   },
   "outputs": [
    {
     "ename": "SyntaxError",
     "evalue": "invalid syntax (<ipython-input-1-2c51086ecfad>, line 3)",
     "output_type": "error",
     "traceback": [
      "\u001b[0;36m  File \u001b[0;32m\"<ipython-input-1-2c51086ecfad>\"\u001b[0;36m, line \u001b[0;32m3\u001b[0m\n\u001b[0;31m    print(Hello World!)\u001b[0m\n\u001b[0m                    ^\u001b[0m\n\u001b[0;31mSyntaxError\u001b[0m\u001b[0;31m:\u001b[0m invalid syntax\n"
     ]
    }
   ],
   "source": [
    "# %%\n",
    "\n",
    "print(Hello World!)"
   ]
  },
  {
   "cell_type": "markdown",
   "metadata": {
    "slideshow": {
     "slide_type": "slide"
    }
   },
   "source": [
    "#### Expected Output\n",
    "\n",
    "        File \"<ipython-input-2-fd1ff2177085>\", line 7\n",
    "          print(Hello World!)\n",
    "                          ^\n",
    "    SyntaxError: invalid syntax\n",
    "        \n",
    "**Don't be afraid of errors! They can tell you what to fix.**"
   ]
  },
  {
   "cell_type": "code",
   "execution_count": 3,
   "metadata": {
    "slideshow": {
     "slide_type": "slide"
    }
   },
   "outputs": [
    {
     "name": "stdout",
     "output_type": "stream",
     "text": [
      "Hello World!\n",
      "Thank you!\n"
     ]
    }
   ],
   "source": [
    "# %%\n",
    "\n",
    "print(\"Hello World!\")\n",
    "\n",
    "print(\"Thank you!\")"
   ]
  },
  {
   "cell_type": "markdown",
   "metadata": {
    "slideshow": {
     "slide_type": "slide"
    }
   },
   "source": [
    "#### Expected Output\n",
    "    Hello World!\n",
    "    Thank you!\n",
    "    "
   ]
  },
  {
   "cell_type": "markdown",
   "metadata": {
    "slideshow": {
     "slide_type": "slide"
    }
   },
   "source": [
    "## Math Operations\n",
    "\n",
    "<table style=\"width:300px\">\n",
    "<th><p style=\"font-size:16pt;font-style:bold\">Symbol</p></th><th><p style=\"font-size:16pt;font-style:bold\">Operation</p></th>\n",
    "<tr><td><p style=\"font-size:16pt\"><b>+</b></p></td><td><p style=\"font-size:12pt\">Addition</p></td></tr>\n",
    "<tr><td><p style=\"font-size:16pt\"><b>-</b></p></td><td><p style=\"font-size:12pt\">Subtraction</p></td></tr>\n",
    "<tr><td><p style=\"font-size:16pt\"><b>\\*</b></p></td><td><p style=\"font-size:12pt\">Multiplication</p></td></tr>\n",
    "<tr><td><p style=\"font-size:16pt\"><b>/</b></p></td><td><p style=\"font-size:12pt\">Division</p></td></tr>\n",
    "<tr><td><p style=\"font-size:16pt\"><b>\\*\\*</b></p></td><td><p style=\"font-size:12pt\">Exponent</p></td></tr>\n",
    "<tr><td><p style=\"font-size:16pt\"><b>%</b></p></td><td><p style=\"font-size:12pt\">Modulus</p></td></tr>\n",
    "<tr><td><p style=\"font-size:16pt\"><b>//</b></p></td><td><p style=\"font-size:12pt\">Floor Division</p></td></tr>\n",
    "</table>"
   ]
  },
  {
   "cell_type": "code",
   "execution_count": 4,
   "metadata": {
    "slideshow": {
     "slide_type": "slide"
    }
   },
   "outputs": [
    {
     "data": {
      "text/plain": [
       "5"
      ]
     },
     "execution_count": 4,
     "metadata": {},
     "output_type": "execute_result"
    }
   ],
   "source": [
    "# %%\n",
    "\n",
    "1+1\n",
    "2+3"
   ]
  },
  {
   "cell_type": "markdown",
   "metadata": {
    "slideshow": {
     "slide_type": "slide"
    }
   },
   "source": [
    "#### Expected Output\n",
    "    Out[3]: 5\n",
    "_(Don't worry if your number in \"Out[ ]\" doesn't match the one above. This is just the number of code blocks you've run so far.)_\n",
    "\n",
    "We see the output of `2+3`, but where is the output of `1+1`? Python doesn't automatically print your results to the console. In order to see our results, we have to use the `print` function."
   ]
  },
  {
   "cell_type": "code",
   "execution_count": 7,
   "metadata": {
    "slideshow": {
     "slide_type": "slide"
    }
   },
   "outputs": [
    {
     "name": "stdout",
     "output_type": "stream",
     "text": [
      "3.3\n",
      "-1\n",
      "522.6\n",
      "7.5\n",
      "81\n",
      "5\n",
      "1\n",
      "-3.0\n"
     ]
    },
    {
     "data": {
      "text/plain": [
       "32.0"
      ]
     },
     "execution_count": 7,
     "metadata": {},
     "output_type": "execute_result"
    }
   ],
   "source": [
    "# %%\n",
    "\n",
    "print(1+2.3)\n",
    "print(4-5)\n",
    "print(67*7.8)\n",
    "print(9.0/1.2)\n",
    "print(3**4)\n",
    "print(12%7)\n",
    "print(12//7)\n",
    "\n",
    "print(1-(2*4)/2)\n",
    "\n",
    "0.5*50+7"
   ]
  },
  {
   "cell_type": "markdown",
   "metadata": {
    "slideshow": {
     "slide_type": "slide"
    }
   },
   "source": [
    "#### Expected Output\n",
    "    3.3\n",
    "    -1\n",
    "    522.6\n",
    "    7.5\n",
    "    81\n",
    "    5\n",
    "    1\n",
    "    -3.0\n",
    "    32.0"
   ]
  },
  {
   "cell_type": "markdown",
   "metadata": {
    "slideshow": {
     "slide_type": "slide"
    }
   },
   "source": [
    "## Variables and Data Types\n",
    "\n",
    "_Variables are where you store your values._\n",
    "\n",
    "---\n",
    "**Variable Rules**\n",
    "1. Variable names must start with a letter or a single underscore.\n",
    "2. Variable names can contain letters, underscores, and numbers.\n",
    "3. Variable names are case-sensitive. (myvar is not the same as myVar)"
   ]
  },
  {
   "cell_type": "code",
   "execution_count": 9,
   "metadata": {
    "slideshow": {
     "slide_type": "slide"
    }
   },
   "outputs": [
    {
     "name": "stdout",
     "output_type": "stream",
     "text": [
      "1\n",
      "2\n"
     ]
    }
   ],
   "source": [
    "# %%\n",
    "\n",
    "x = 1\n",
    "print(x)\n",
    "\n",
    "x = x +1\n",
    "print(x)"
   ]
  },
  {
   "cell_type": "markdown",
   "metadata": {
    "slideshow": {
     "slide_type": "slide"
    }
   },
   "source": [
    "#### Expected Output\n",
    "    1\n",
    "    2\n",
    "\n",
    "`x` now has a value of 2 because we updated its value with the original value of `x` + 1."
   ]
  },
  {
   "cell_type": "code",
   "execution_count": 10,
   "metadata": {
    "slideshow": {
     "slide_type": "slide"
    }
   },
   "outputs": [
    {
     "name": "stdout",
     "output_type": "stream",
     "text": [
      "7\n"
     ]
    }
   ],
   "source": [
    "y = 5\n",
    "myVar = x + y\n",
    "\n",
    "print(myVar)"
   ]
  },
  {
   "cell_type": "markdown",
   "metadata": {
    "slideshow": {
     "slide_type": "slide"
    }
   },
   "source": [
    "#### Expected Output\n",
    "    7"
   ]
  },
  {
   "cell_type": "markdown",
   "metadata": {
    "slideshow": {
     "slide_type": "slide"
    }
   },
   "source": [
    "## Variables and Data Types\n",
    "_Values assigned to variables have a data type._\n",
    "\n",
    "<table style=\"width:600px\">\n",
    "<th><p style=\"font-size:18pt\">Data Type</p></th><th><p style=\"font-size:18pt\">Definition</p></th>\n",
    "<tr><td><p style=\"font-size:14pt\">`int`</p></td><td><p style=\"font-size:14pt\">integer</p></td></tr>\n",
    "<tr><td><p style=\"font-size:14pt\">`float`</p></td><td><p style=\"font-size:14pt\">floating point (decimal)</p></td></tr>\n",
    "<tr><td><p style=\"font-size:14pt\">`str`</p></td><td><p style=\"font-size:14pt\">string (letter or number characters)</p></td></tr>\n",
    "<tr><td><p style=\"font-size:14pt\">`bool`</p></td><td><p style=\"font-size:14pt\">boolean `True` or `False`</p></td></tr>\n",
    "</table>"
   ]
  },
  {
   "cell_type": "code",
   "execution_count": 15,
   "metadata": {
    "slideshow": {
     "slide_type": "slide"
    }
   },
   "outputs": [
    {
     "name": "stdout",
     "output_type": "stream",
     "text": [
      "1e+100\n",
      "<class 'float'>\n",
      "10000000000000000000000000000000000000000000000000000000000000000000000000000000000000000000000000000\n",
      "<class 'int'>\n",
      "0.0\n",
      "False\n"
     ]
    }
   ],
   "source": [
    "# %%\n",
    "\n",
    "googol = 1e100; print(googol); print(type(googol))\n",
    "\n",
    "googol_int = 10**100; print(googol_int); print(type(googol_int))\n",
    "\n",
    "print(googol_int - googol)\n",
    "\n",
    "print(googol == googol_int)"
   ]
  },
  {
   "cell_type": "markdown",
   "metadata": {
    "slideshow": {
     "slide_type": "slide"
    }
   },
   "source": [
    "#### Expected Output\n",
    "    1e+100\n",
    "    <class 'float'>\n",
    "    10000000000000000000000000000000000000000000000000000000000000000000000000000000000000000000000000000\n",
    "    <class 'int'>\n",
    "    0.0\n",
    "    False\n",
    "    \n",
    "Even though `googol` and `googol_int` contain the same numerical value, they are not equal because they are different data types."
   ]
  },
  {
   "cell_type": "code",
   "execution_count": 17,
   "metadata": {
    "slideshow": {
     "slide_type": "slide"
    }
   },
   "outputs": [
    {
     "name": "stdout",
     "output_type": "stream",
     "text": [
      "Bilbo Baggins\n",
      "True\n"
     ]
    }
   ],
   "source": [
    "firstName = \"Bilbo\"\n",
    "lastName = '''Baggins'''\n",
    "\n",
    "myName = firstName + \" \" + lastName\n",
    "\n",
    "print(myName)\n",
    "\n",
    "print(\"chocolate\" > \"broccoli\")"
   ]
  },
  {
   "cell_type": "code",
   "execution_count": 20,
   "metadata": {
    "slideshow": {
     "slide_type": "slide"
    }
   },
   "outputs": [
    {
     "name": "stdout",
     "output_type": "stream",
     "text": [
      "1\n",
      "4\n"
     ]
    }
   ],
   "source": [
    "# %%\n",
    "\n",
    "python_is_fun = True\n",
    "python_is_boring = False\n",
    "\n",
    "print(python_is_fun + python_is_boring)\n",
    "print(python_is_fun + 3) "
   ]
  },
  {
   "cell_type": "markdown",
   "metadata": {
    "slideshow": {
     "slide_type": "slide"
    }
   },
   "source": [
    "## Sequence Data Types\n",
    "\n",
    "* These data types can contain multiple values, and have an intrinsic order.\n",
    "* Individual values can be accessed with indexing and slicing.\n",
    "\n",
    "<table style=\"width:600px\">\n",
    "<th><p style=\"font-size:18pt\">Data Type</p></th><th><p style=\"font-size:18pt\">Definition</p></th>\n",
    "<tr><td><p style=\"font-size:14pt\">`list` [...]</p></td><td><p style=\"font-size:12pt\">contains values that can be changed (mutable)</p></td></tr>\n",
    "<tr><td><p style=\"font-size:14pt\">`tuple` (...)</p></td><td><p style=\"font-size:12pt\">contains values that cannot be changed (immutable)</p></td></tr>\n",
    "<tr><td><p style=\"font-size:14pt\">`str` \"...\"  or '...' or '''...'''</p></td><td><p style=\"font-size:12pt\">string (`apple` is not the same as `leppa`)</p></td></tr>\n",
    "</table>"
   ]
  },
  {
   "cell_type": "markdown",
   "metadata": {
    "slideshow": {
     "slide_type": "slide"
    }
   },
   "source": [
    "### Indexing\n",
    "\n",
    "#### Extract a single element of a sequence\n",
    "\n",
    "<img src=\"images/indexing.png\" style=\"width:75%;height:75%\"></img>\n",
    "\n",
    "Each character of the string has two index numbers, shown above and below each box."
   ]
  },
  {
   "cell_type": "code",
   "execution_count": 23,
   "metadata": {
    "slideshow": {
     "slide_type": "slide"
    }
   },
   "outputs": [
    {
     "name": "stdout",
     "output_type": "stream",
     "text": [
      "1\n",
      "8\n",
      "8\n"
     ]
    }
   ],
   "source": [
    "# %%\n",
    "\n",
    "my_list = [1, 1, 2, 3, 5, 8]\n",
    "\n",
    "print(my_list[0])\n",
    "\n",
    "print(my_list[5])\n",
    "print(my_list[-1])"
   ]
  },
  {
   "cell_type": "markdown",
   "metadata": {
    "slideshow": {
     "slide_type": "slide"
    }
   },
   "source": [
    "#### Expected Outcome\n",
    "\n",
    "    1\n",
    "    8\n",
    "    \n",
    "There are two ways you could obtain the last value of `my_list`.\n",
    "\n",
    "1. `my_list[5]`\n",
    "2. `my_list[-1]`\n",
    "\n",
    "The second method will always return the last element of a sequence and is more practical since the size of my_list could change."
   ]
  },
  {
   "cell_type": "code",
   "execution_count": 24,
   "metadata": {
    "slideshow": {
     "slide_type": "slide"
    }
   },
   "outputs": [
    {
     "name": "stdout",
     "output_type": "stream",
     "text": [
      "[1, 1, 2, 3, 5, 8, 13]\n"
     ]
    }
   ],
   "source": [
    "# %%\n",
    "\n",
    "my_list.append(my_list[-2] + my_list[-1])\n",
    "\n",
    "print(my_list)"
   ]
  },
  {
   "cell_type": "code",
   "execution_count": 25,
   "metadata": {
    "slideshow": {
     "slide_type": "slide"
    }
   },
   "outputs": [
    {
     "ename": "AttributeError",
     "evalue": "'tuple' object has no attribute 'append'",
     "output_type": "error",
     "traceback": [
      "\u001b[0;31m---------------------------------------------------------------------------\u001b[0m",
      "\u001b[0;31mAttributeError\u001b[0m                            Traceback (most recent call last)",
      "\u001b[0;32m<ipython-input-25-1e9f95bcbbcb>\u001b[0m in \u001b[0;36m<module>\u001b[0;34m()\u001b[0m\n\u001b[1;32m      3\u001b[0m \u001b[0mmy_tuple\u001b[0m \u001b[0;34m=\u001b[0m \u001b[0;34m(\u001b[0m\u001b[0;36m1\u001b[0m\u001b[0;34m,\u001b[0m \u001b[0;36m1\u001b[0m\u001b[0;34m,\u001b[0m \u001b[0;36m2\u001b[0m\u001b[0;34m,\u001b[0m \u001b[0;36m3\u001b[0m\u001b[0;34m,\u001b[0m \u001b[0;36m5\u001b[0m\u001b[0;34m,\u001b[0m \u001b[0;36m8\u001b[0m\u001b[0;34m)\u001b[0m\u001b[0;34m\u001b[0m\u001b[0m\n\u001b[1;32m      4\u001b[0m \u001b[0;34m\u001b[0m\u001b[0m\n\u001b[0;32m----> 5\u001b[0;31m \u001b[0mmy_tuple\u001b[0m\u001b[0;34m.\u001b[0m\u001b[0mappend\u001b[0m\u001b[0;34m(\u001b[0m\u001b[0mmy_tuple\u001b[0m\u001b[0;34m[\u001b[0m\u001b[0;34m-\u001b[0m\u001b[0;36m2\u001b[0m\u001b[0;34m]\u001b[0m \u001b[0;34m+\u001b[0m \u001b[0mmy_tuple\u001b[0m\u001b[0;34m[\u001b[0m\u001b[0;34m-\u001b[0m\u001b[0;36m1\u001b[0m\u001b[0;34m]\u001b[0m\u001b[0;34m)\u001b[0m\u001b[0;34m\u001b[0m\u001b[0m\n\u001b[0m",
      "\u001b[0;31mAttributeError\u001b[0m: 'tuple' object has no attribute 'append'"
     ]
    }
   ],
   "source": [
    "# %%\n",
    "\n",
    "my_tuple = (1, 1, 2, 3, 5, 8)\n",
    "\n",
    "my_tuple.append(my_tuple[-2] + my_tuple[-1])"
   ]
  },
  {
   "cell_type": "markdown",
   "metadata": {
    "slideshow": {
     "slide_type": "slide"
    }
   },
   "source": [
    "#### Expected Output\n",
    "\n",
    "```\n",
    "---------------------------------------------------------------------------\n",
    "AttributeError                            Traceback (most recent call last)\n",
    "<ipython-input-11-5a2fbed28f7f> in <module>()\n",
    "      3 my_tuple = (1, 1, 2, 3, 5, 8)\n",
    "      4 \n",
    "----> 5 my_tuple.append(my_tuple[-2] + my_tuple[-1])\n",
    "\n",
    "AttributeError: 'tuple' object has no attribute 'append'```\n",
    "\n",
    "Tuples cannot be modified."
   ]
  },
  {
   "cell_type": "markdown",
   "metadata": {
    "slideshow": {
     "slide_type": "slide"
    }
   },
   "source": [
    "### Slicing\n",
    "\n",
    "Extracting consecutive elements of a sequence\n",
    "\n",
    "\n",
    "<img src=\"images/indexing.png\" style=\"width:75%;height:75%\"></img>\n",
    "\n",
    "A slice is a subset of consecutive elements in a sequence, denoted by the gray boxes above.\n",
    "\n",
    "To reference a slice, we use the syntax **\\[from:up to but not including\\]**"
   ]
  },
  {
   "cell_type": "code",
   "execution_count": 26,
   "metadata": {
    "slideshow": {
     "slide_type": "slide"
    }
   },
   "outputs": [
    {
     "name": "stdout",
     "output_type": "stream",
     "text": [
      "[1, 1, 2]\n"
     ]
    }
   ],
   "source": [
    "# %%\n",
    "\n",
    "my_slice = my_list[0:3]\n",
    "\n",
    "print(my_slice)"
   ]
  },
  {
   "cell_type": "markdown",
   "metadata": {
    "slideshow": {
     "slide_type": "slide"
    }
   },
   "source": [
    "## Collection Data Types\n",
    "\n",
    "* These data types contain multiple values and have no intrinsic order.\n",
    "* These data types do not have numerical indices.\n",
    "\n",
    "<table style=\"width:600px\">\n",
    "<th><p style=\"font-size:18pt\">Data Type</p></th><th><p style=\"font-size:18pt\">Definition</p></th>\n",
    "<tr><td><p style=\"font-size:14pt\">`set {...}`</p></td><td><p style=\"font-size:12pt\">contains unique values</p></td></tr>\n",
    "<tr><td><p style=\"font-size:14pt\">`dictionary {...:...}`</p></td><td><p style=\"font-size:12pt\">contains unique key pairs</p></td></tr>\n",
    "</table>"
   ]
  },
  {
   "cell_type": "code",
   "execution_count": 27,
   "metadata": {
    "slideshow": {
     "slide_type": "slide"
    }
   },
   "outputs": [
    {
     "name": "stdout",
     "output_type": "stream",
     "text": [
      "{1, 2, 3, 5, 8}\n"
     ]
    }
   ],
   "source": [
    "my_set = {1,1,2,3,5,8}\n",
    "\n",
    "print(my_set)"
   ]
  },
  {
   "cell_type": "code",
   "execution_count": 29,
   "metadata": {
    "slideshow": {
     "slide_type": "slide"
    }
   },
   "outputs": [
    {
     "name": "stdout",
     "output_type": "stream",
     "text": [
      "T\n"
     ]
    },
    {
     "ename": "KeyError",
     "evalue": "'T'",
     "output_type": "error",
     "traceback": [
      "\u001b[0;31m---------------------------------------------------------------------------\u001b[0m",
      "\u001b[0;31mKeyError\u001b[0m                                  Traceback (most recent call last)",
      "\u001b[0;32m<ipython-input-29-481e5960079d>\u001b[0m in \u001b[0;36m<module>\u001b[0;34m()\u001b[0m\n\u001b[1;32m      5\u001b[0m \u001b[0mprint\u001b[0m\u001b[0;34m(\u001b[0m\u001b[0mdna_basepairs\u001b[0m\u001b[0;34m[\u001b[0m\u001b[0;34m\"A\"\u001b[0m\u001b[0;34m]\u001b[0m\u001b[0;34m)\u001b[0m\u001b[0;34m\u001b[0m\u001b[0m\n\u001b[1;32m      6\u001b[0m \u001b[0;34m\u001b[0m\u001b[0m\n\u001b[0;32m----> 7\u001b[0;31m \u001b[0mprint\u001b[0m\u001b[0;34m(\u001b[0m\u001b[0mdna_basepairs\u001b[0m\u001b[0;34m[\u001b[0m\u001b[0;34m\"T\"\u001b[0m\u001b[0;34m]\u001b[0m\u001b[0;34m)\u001b[0m\u001b[0;34m\u001b[0m\u001b[0m\n\u001b[0m",
      "\u001b[0;31mKeyError\u001b[0m: 'T'"
     ]
    }
   ],
   "source": [
    "# %%\n",
    "\n",
    "dna_basepairs = {\"A\":\"T\", \"C\":\"G\"}\n",
    "\n",
    "print(dna_basepairs[\"A\"])\n",
    "\n",
    "print(dna_basepairs[\"T\"])"
   ]
  },
  {
   "cell_type": "code",
   "execution_count": 32,
   "metadata": {
    "slideshow": {
     "slide_type": "slide"
    }
   },
   "outputs": [
    {
     "name": "stdout",
     "output_type": "stream",
     "text": [
      "T\n",
      "G\n",
      "C\n",
      "A\n",
      "3\n"
     ]
    }
   ],
   "source": [
    "# %%\n",
    "\n",
    "dna_basepairs = {\"A\":\"T\", \"C\":\"G\", \"G\":\"C\", \"T\":\"A\"}\n",
    "\n",
    "print(dna_basepairs[\"A\"])\n",
    "print(dna_basepairs[\"C\"])\n",
    "print(dna_basepairs[\"G\"])\n",
    "print(dna_basepairs[\"T\"])\n",
    "\n",
    "my_dict = {\"b\": 2, \"b\": 3}\n",
    "\n",
    "print(my_dict[\"b\"])"
   ]
  },
  {
   "cell_type": "markdown",
   "metadata": {
    "slideshow": {
     "slide_type": "slide"
    }
   },
   "source": [
    "## For Loops\n",
    "Execute code iteratively\n",
    "<img src=\"images/for-loop.png\" style=\"width:30%;height:30%\"></img>\n",
    "\n",
    "**IMPORTANT! Code within a for loop must be indented with four spaces or a tab.**"
   ]
  },
  {
   "cell_type": "code",
   "execution_count": 34,
   "metadata": {
    "slideshow": {
     "slide_type": "slide"
    }
   },
   "outputs": [
    {
     "name": "stdout",
     "output_type": "stream",
     "text": [
      "T\n",
      "G\n",
      "C\n",
      "A\n",
      "[0, 1, 2, 3, 4, 5, 6, 7, 8, 9]\n"
     ]
    }
   ],
   "source": [
    "# %%\n",
    "for base in dna_basepairs:\n",
    "    print(dna_basepairs[base])\n",
    "    \n",
    "my_nums = []\n",
    "for x in range(10):\n",
    "    my_nums.append(x)\n",
    "    \n",
    "print(my_nums)"
   ]
  },
  {
   "cell_type": "markdown",
   "metadata": {
    "slideshow": {
     "slide_type": "slide"
    }
   },
   "source": [
    "## Practice Exercise: DNA Complement\n",
    "\n",
    "<img src=images/dna-complement.gif></img>\n",
    "\n",
    "You are given a nucleotide sequence: ATG GTG AGC AAG. Write code to determine and print the complementary sequence.\n",
    "\n"
   ]
  },
  {
   "cell_type": "code",
   "execution_count": 35,
   "metadata": {
    "slideshow": {
     "slide_type": "slide"
    }
   },
   "outputs": [
    {
     "name": "stdout",
     "output_type": "stream",
     "text": [
      "TACCACTCGTTC\n"
     ]
    }
   ],
   "source": [
    "# %%\n",
    "\n",
    "myDNA = \"ATGGTGAGCAAG\"\n",
    "comp_seq = \"\"\n",
    "\n",
    "## 3lines\n",
    "# for loop\n",
    "# add the next complementary base (using +)\n",
    "# print comp_seq\n",
    "\n",
    "for base in myDNA:\n",
    "    comp_seq = comp_seq + dna_basepairs[base]\n",
    "    \n",
    "print(comp_seq)"
   ]
  },
  {
   "cell_type": "markdown",
   "metadata": {
    "slideshow": {
     "slide_type": "slide"
    }
   },
   "source": [
    "#### Expected Output\n",
    "\n",
    "    TACCACTCGTTC"
   ]
  },
  {
   "cell_type": "markdown",
   "metadata": {
    "collapsed": true,
    "slideshow": {
     "slide_type": "slide"
    }
   },
   "source": [
    "## While Loops (Conditional Looping)\n",
    "\n",
    "<img src=\"images/while-loop.png\" style=\"width:30%;height:30%\"></img>\n",
    "\n",
    "**A condition** is a comparison operation that returns a boolean. If `True`, the code in the while loop will be executed. If `False`, the while loop is finished running."
   ]
  },
  {
   "cell_type": "code",
   "execution_count": 36,
   "metadata": {
    "slideshow": {
     "slide_type": "slide"
    }
   },
   "outputs": [
    {
     "name": "stdout",
     "output_type": "stream",
     "text": [
      "counter = 1\n",
      "counter = 2\n",
      "counter = 3\n",
      "counter = 4\n",
      "counter = 5\n",
      "counter = 6\n",
      "counter = 7\n",
      "counter = 8\n",
      "counter = 9\n",
      "counter = 10\n"
     ]
    }
   ],
   "source": [
    "# %%\n",
    "counter = 0\n",
    "\n",
    "while counter < 10:\n",
    "    counter = counter + 1\n",
    "    print(\"counter = \" + str(counter))"
   ]
  },
  {
   "cell_type": "markdown",
   "metadata": {
    "slideshow": {
     "slide_type": "slide"
    }
   },
   "source": [
    "## If Statements\n",
    "\n",
    "Conditionally execute code\n",
    "\n",
    "<img src=\"images/if-statement.png\" style=\"width:30%;height:30%\"></img>\n",
    "\n",
    "Like the while loop, code within the if statement will only run when the condition is `True`.\n",
    "Again indentation is used to denote code within the if statement."
   ]
  },
  {
   "cell_type": "code",
   "execution_count": 38,
   "metadata": {
    "slideshow": {
     "slide_type": "slide"
    }
   },
   "outputs": [
    {
     "name": "stdout",
     "output_type": "stream",
     "text": [
      "orig x = 25\n",
      "new x = 26\n"
     ]
    }
   ],
   "source": [
    "# %%\n",
    "x = 25\n",
    "print(\"orig x = \" + str(x))\n",
    "\n",
    "if x%2 == 1:\n",
    "    x = x + 1\n",
    "    \n",
    "print(\"new x = \" + str(x))"
   ]
  },
  {
   "cell_type": "markdown",
   "metadata": {
    "slideshow": {
     "slide_type": "slide"
    }
   },
   "source": [
    "### Else and Else If Statements\n",
    "\n",
    "What if we want to run certain code if the condition isn't true? What if we want to run different code if a different condition is met?\n",
    "\n",
    "<img src=\"images/else.png\" style=\"width:25%;height:25%\"></img>\n",
    "\n",
    "`else`: run code when the condition is `False`<br>\n",
    "`elif`: run code when a different condition is `True`"
   ]
  },
  {
   "cell_type": "code",
   "execution_count": 39,
   "metadata": {
    "slideshow": {
     "slide_type": "slide"
    }
   },
   "outputs": [
    {
     "name": "stdout",
     "output_type": "stream",
     "text": [
      "14\n"
     ]
    }
   ],
   "source": [
    "# %%\n",
    "\n",
    "x = 13.5\n",
    "\n",
    "if x%2 == 1:\n",
    "    x = x+1\n",
    "elif x%2 == 0:\n",
    "    x = x/2\n",
    "else:\n",
    "    x = round(x)\n",
    "    \n",
    "print(x)"
   ]
  },
  {
   "cell_type": "markdown",
   "metadata": {
    "slideshow": {
     "slide_type": "slide"
    }
   },
   "source": [
    "## Practice Exercise: RNA Transcription\n",
    "\n",
    "<img src=\"images/rna-transcription.gif\"></img>\n",
    "\n",
    "Let's take our code from the DNA complement exercise and determine the RNA complement instead.\n",
    "\n",
    "So if the base is \"A\", let's add a \"U\" to the comp_seq instead."
   ]
  },
  {
   "cell_type": "code",
   "execution_count": 42,
   "metadata": {
    "slideshow": {
     "slide_type": "slide"
    }
   },
   "outputs": [
    {
     "name": "stdout",
     "output_type": "stream",
     "text": [
      "UACCACUCGUUC\n"
     ]
    }
   ],
   "source": [
    "comp_seq = \"\"\n",
    "\n",
    "for base in myDNA:\n",
    "    if base == \"A\":\n",
    "        comp_seq = comp_seq + \"U\"\n",
    "    else:\n",
    "        comp_seq = comp_seq + dna_basepairs[base]\n",
    "\n",
    "print(comp_seq)"
   ]
  },
  {
   "cell_type": "markdown",
   "metadata": {
    "slideshow": {
     "slide_type": "slide"
    }
   },
   "source": [
    "#### Expected Output\n",
    "\n",
    "    UACCACUCGUUC"
   ]
  },
  {
   "cell_type": "markdown",
   "metadata": {
    "slideshow": {
     "slide_type": "slide"
    }
   },
   "source": [
    "## Functions\n",
    "What if we want to use code we've already written in future scripts?\n",
    "\n",
    "Functions allow us to reuse code."
   ]
  },
  {
   "cell_type": "code",
   "execution_count": 45,
   "metadata": {
    "slideshow": {
     "slide_type": "slide"
    }
   },
   "outputs": [
    {
     "name": "stdout",
     "output_type": "stream",
     "text": [
      "{'A': 'U', 'C': 'G', 'G': 'C', 'T': 'A'}\n"
     ]
    }
   ],
   "source": [
    "# %%\n",
    "def my_func(DNA_seq):\n",
    "    \n",
    "    dna_basepairs = {\"A\": \"T\", \"C\": \"G\", \"G\": \"C\", \"T\": \"A\"}\n",
    "    comp_seq = \"\"\n",
    "    \n",
    "    for base in DNA_seq:\n",
    "        if base == \"A\":\n",
    "            comp_seq = comp_seq + \"U\"\n",
    "        else:\n",
    "            comp_seq = comp_seq + dna_basepairs[base]\n",
    "            \n",
    "    return comp_seq\n",
    "\n",
    "C = my_func(myDNA)\n",
    "\n",
    "dna_basepairs[\"A\"] = \"U\"\n",
    "print(dna_basepairs)"
   ]
  },
  {
   "cell_type": "markdown",
   "metadata": {
    "slideshow": {
     "slide_type": "slide"
    }
   },
   "source": [
    "## Modules\n",
    "\n",
    "Modules are .py files containing pre-defined functions. You can create your own modules, and import modules from the thousands of Python packages available online.\n",
    "\n",
    "Popular packages include:\n",
    "* **math**: math functions defined by C standard\n",
    "* **NumPy**: scientific computing\n",
    "* **pandas**: data manipulation\n",
    "* **matplotlib**: plotting\n",
    "* **TensorFlow**: machine learning"
   ]
  },
  {
   "cell_type": "code",
   "execution_count": 48,
   "metadata": {
    "slideshow": {
     "slide_type": "slide"
    }
   },
   "outputs": [
    {
     "name": "stdout",
     "output_type": "stream",
     "text": [
      "2.0\n",
      "3.0\n",
      "4.0\n"
     ]
    }
   ],
   "source": [
    "import numpy\n",
    "print(numpy.sqrt(4))\n",
    "\n",
    "import numpy as np\n",
    "print(np.sqrt(9))\n",
    "\n",
    "from numpy import sqrt\n",
    "print(sqrt(16))"
   ]
  },
  {
   "cell_type": "code",
   "execution_count": 50,
   "metadata": {
    "slideshow": {
     "slide_type": "slide"
    }
   },
   "outputs": [
    {
     "name": "stdout",
     "output_type": "stream",
     "text": [
      "gtgccactta\n",
      "\n",
      "gttacattga\n",
      "\n",
      "tggttaagat\n",
      "\n",
      "aaaatcgagg\n",
      "\n",
      "tccagtaagt\n",
      "\n",
      "cgacgattgt\n",
      "\n",
      "gcaaaccggt\n",
      "\n",
      "gaccagtgac\n",
      "\n",
      "attgccaaat\n",
      "\n",
      "ttttccccaa\n",
      "gtgccactta\n",
      "\n",
      "gttacattga\n",
      "\n",
      "tggttaagat\n",
      "\n",
      "aaaatcgagg\n",
      "\n",
      "tccagtaagt\n",
      "\n",
      "cgacgattgt\n",
      "\n",
      "gcaaaccggt\n",
      "\n",
      "gaccagtgac\n",
      "\n",
      "attgccaaat\n",
      "\n",
      "ttttccccaa\n"
     ]
    }
   ],
   "source": [
    "# MEthod 1\n",
    "\n",
    "f1 = open(\"my_sequences.txt\",\"r\")\n",
    "for row in f1:\n",
    "    print(row)    \n",
    "f1.close()\n",
    "\n",
    "# Method 2\n",
    "with open(\"my_sequences.txt\",\"r\") as f2:\n",
    "    for row in f2:\n",
    "        print(row)"
   ]
  },
  {
   "cell_type": "code",
   "execution_count": 52,
   "metadata": {
    "slideshow": {
     "slide_type": "slide"
    }
   },
   "outputs": [],
   "source": [
    "with open(\"my_sequences.txt\",\"r\") as fi:\n",
    "    with open(\"my_complements.txt\", \"a\") as fo:\n",
    "        for row in fi:\n",
    "            my_seq = row.upper().rstrip()\n",
    "            comp_seq = my_func(my_seq)\n",
    "            fo.write(comp_seq + \"\\n\")"
   ]
  },
  {
   "cell_type": "code",
   "execution_count": 41,
   "metadata": {
    "slideshow": {
     "slide_type": "slide"
    }
   },
   "outputs": [
    {
     "name": "stdout",
     "output_type": "stream",
     "text": [
      "Help on built-in function print in module builtins:\n",
      "\n",
      "print(...)\n",
      "    print(value, ..., sep=' ', end='\\n', file=sys.stdout, flush=False)\n",
      "    \n",
      "    Prints the values to a stream, or to sys.stdout by default.\n",
      "    Optional keyword arguments:\n",
      "    file:  a file-like object (stream); defaults to the current sys.stdout.\n",
      "    sep:   string inserted between values, default a space.\n",
      "    end:   string appended after the last value, default a newline.\n",
      "    flush: whether to forcibly flush the stream.\n",
      "\n"
     ]
    }
   ],
   "source": [
    "help(print)\n",
    "\n",
    "print?\n"
   ]
  }
 ],
 "metadata": {
  "celltoolbar": "Slideshow",
  "kernelspec": {
   "display_name": "Python 3",
   "language": "python",
   "name": "python3"
  },
  "language_info": {
   "codemirror_mode": {
    "name": "ipython",
    "version": 3
   },
   "file_extension": ".py",
   "mimetype": "text/x-python",
   "name": "python",
   "nbconvert_exporter": "python",
   "pygments_lexer": "ipython3",
   "version": "3.6.4"
  }
 },
 "nbformat": 4,
 "nbformat_minor": 2
}
