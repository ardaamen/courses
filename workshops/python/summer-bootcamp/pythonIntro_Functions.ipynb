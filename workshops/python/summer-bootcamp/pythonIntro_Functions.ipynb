{
 "cells": [
  {
   "cell_type": "markdown",
   "metadata": {},
   "source": [
    "## Python: Functions\n",
    "\n",
    "Functions are an essential part of python programming:\n",
    "\n",
    "- provides modularity\n",
    "- readable code\n",
    "- reusable code\n"
   ]
  },
  {
   "cell_type": "markdown",
   "metadata": {},
   "source": [
    "\n",
    "### Syntax\n",
    "\n",
    "A function is defined using the keyword `def`,  followed by the function name and paranthesis, and ends with a colon.  \n",
    "  Input parameters should be placed within the paranthesis   \n",
    "  The function body is indented!  \n",
    "  The first statement of the body is the optional (but highly recommended) \"docstring\" - the help statement  \n",
    "  This is followed by the code block to do something meaningful  \n",
    "  The last statement is the \"return\" statement (optional), which passes an expression back to the caller and exits the function."
   ]
  },
  {
   "cell_type": "code",
   "execution_count": null,
   "metadata": {},
   "outputs": [],
   "source": [
    "# user-defined function\n",
    "def myFunc(parameters):\n",
    "    \"docstring\"\n",
    "    do_something \n",
    "    return expression\n",
    "\n",
    "# call the function\n",
    "# myFunc(parameters)"
   ]
  },
  {
   "cell_type": "markdown",
   "metadata": {},
   "source": [
    "#### My first function"
   ]
  },
  {
   "cell_type": "code",
   "execution_count": 3,
   "metadata": {},
   "outputs": [
    {
     "name": "stdout",
     "output_type": "stream",
     "text": [
      "Hello  Hardik\n",
      "Help on function hello in module __main__:\n",
      "\n",
      "hello(name)\n",
      "    This function prints the name when called\n",
      "\n"
     ]
    }
   ],
   "source": [
    "# define the function\n",
    "def hello(name):\n",
    "    '''\n",
    "    This function prints the name when called\n",
    "    '''\n",
    "    print(\"Hello \", name)\n",
    "    \n",
    "# call the function    \n",
    "hello(\"Hardik\")\n",
    "\n",
    "# print help for the function\n",
    "help(hello)"
   ]
  },
  {
   "cell_type": "markdown",
   "metadata": {},
   "source": [
    "#### Function with `return` statement"
   ]
  },
  {
   "cell_type": "code",
   "execution_count": 5,
   "metadata": {},
   "outputs": [
    {
     "name": "stdout",
     "output_type": "stream",
     "text": [
      "My nucleotide sequence is 17 bases long.\n"
     ]
    }
   ],
   "source": [
    "def myFunc0(string):\n",
    "    '''\n",
    "    This function returns the length of the string\n",
    "    '''\n",
    "    length = len(string)\n",
    "    return length\n",
    "\n",
    "string_len = myFunc0(\"ACGTGCAGTGCAGTGCA\")\n",
    "print(\"My nucleotide sequence is %s bases long.\" % string_len)"
   ]
  },
  {
   "cell_type": "code",
   "execution_count": 8,
   "metadata": {},
   "outputs": [
    {
     "data": {
      "text/plain": [
       "196"
      ]
     },
     "execution_count": 8,
     "metadata": {},
     "output_type": "execute_result"
    }
   ],
   "source": [
    "def myFunc1(x):\n",
    "    '''\n",
    "    This function returns the square of x\n",
    "    '''\n",
    "    return x**2\n",
    "\n",
    "myFunc1(4)\n",
    "myFunc1(14)"
   ]
  },
  {
   "cell_type": "markdown",
   "metadata": {},
   "source": [
    "#### Cannot have more than one `return` statement"
   ]
  },
  {
   "cell_type": "code",
   "execution_count": 10,
   "metadata": {},
   "outputs": [
    {
     "data": {
      "text/plain": [
       "9"
      ]
     },
     "execution_count": 10,
     "metadata": {},
     "output_type": "execute_result"
    }
   ],
   "source": [
    "def myFunc2(x):\n",
    "    return x**2\n",
    "    return x**3\n",
    "\n",
    "myFunc2(3)"
   ]
  },
  {
   "cell_type": "code",
   "execution_count": 11,
   "metadata": {},
   "outputs": [
    {
     "name": "stdout",
     "output_type": "stream",
     "text": [
      "9\n",
      "27\n"
     ]
    }
   ],
   "source": [
    "def myFunc3(x):\n",
    "    x2 = x**2\n",
    "    x3 = x**3\n",
    "    return (x2,x3)\n",
    "\n",
    "x2,x3 = myFunc3(3)\n",
    "print(x2)\n",
    "print(x3)"
   ]
  },
  {
   "cell_type": "markdown",
   "metadata": {},
   "source": [
    "#### Order of parameters matter"
   ]
  },
  {
   "cell_type": "code",
   "execution_count": 22,
   "metadata": {},
   "outputs": [
    {
     "name": "stdout",
     "output_type": "stream",
     "text": [
      "x = 4\n",
      "y = 3\n"
     ]
    }
   ],
   "source": [
    "def myFunc4(x,y):\n",
    "    print(\"x = %s\" % x)\n",
    "    print(\"y = %s\" % y)\n",
    "    \n",
    "myFunc4(3,4)\n",
    "myFunc4(4,3)\n",
    "myFunc4(y=3, x=4)"
   ]
  },
  {
   "cell_type": "markdown",
   "metadata": {},
   "source": [
    "#### Default arguments"
   ]
  },
  {
   "cell_type": "code",
   "execution_count": 27,
   "metadata": {},
   "outputs": [
    {
     "data": {
      "text/plain": [
       "25"
      ]
     },
     "execution_count": 27,
     "metadata": {},
     "output_type": "execute_result"
    }
   ],
   "source": [
    "def myFunc5(x, y = 3, debug=True):\n",
    "    if debug:\n",
    "        print(\"Calculating %s to the power of %s:\" % (x,y))\n",
    "    return x**y\n",
    "\n",
    "myFunc5(3,2)\n",
    "myFunc5(3, debug=False)\n",
    "myFunc5(y=2,debug=False, x=5)\n",
    "\n"
   ]
  },
  {
   "cell_type": "markdown",
   "metadata": {},
   "source": [
    "#### Variable-length arguments"
   ]
  },
  {
   "cell_type": "code",
   "execution_count": 6,
   "metadata": {},
   "outputs": [
    {
     "data": {
      "text/plain": [
       "160"
      ]
     },
     "execution_count": 6,
     "metadata": {},
     "output_type": "execute_result"
    }
   ],
   "source": [
    "def myFunc6(x, *args):\n",
    "    '''\n",
    "    This function add all the arguments\n",
    "    '''\n",
    "    total = x\n",
    "    for arg in args:\n",
    "        total += arg\n",
    "    return total\n",
    "        \n",
    "myFunc6(10, 20)\n",
    "myFunc6(10, 40, 50, 60)"
   ]
  },
  {
   "cell_type": "markdown",
   "metadata": {},
   "source": [
    "#### Scope of variable"
   ]
  },
  {
   "cell_type": "code",
   "execution_count": 10,
   "metadata": {
    "scrolled": true
   },
   "outputs": [
    {
     "name": "stdout",
     "output_type": "stream",
     "text": [
      "local variable product : 180\n",
      "global variable product : 0\n"
     ]
    }
   ],
   "source": [
    "xy = 0  #global variable\n",
    "\n",
    "# Function definition is here\n",
    "def mult( x, y ):\n",
    "    \"Multiply both arguments and return them\"\n",
    "    xy = x * y  # Here total is local variable.\n",
    "    print(\"local variable product : %s\" % xy)\n",
    "    return xy\n",
    "\n",
    "# Now you can call sum function\n",
    "mult( 12, 15 )\n",
    "print(\"global variable product : %s\" % xy)"
   ]
  },
  {
   "cell_type": "markdown",
   "metadata": {},
   "source": [
    "#### Anonymous functions\n",
    "\n",
    "Lambda functions\n",
    "\n",
    "- declared using the `lambda` keyword\n",
    "- can take multiple arguments, but returns _one_ expression\n",
    "- have their own namespace - _i.e._ can only access variables in parameter list, and global variables"
   ]
  },
  {
   "cell_type": "code",
   "execution_count": 8,
   "metadata": {},
   "outputs": [
    {
     "data": {
      "text/plain": [
       "8"
      ]
     },
     "execution_count": 8,
     "metadata": {},
     "output_type": "execute_result"
    }
   ],
   "source": [
    "# Syntax \n",
    "# lambda [arg1, arg2 ... argn ]:expression\n",
    "\n",
    "# Example \n",
    "myFunc7 = lambda x,y: x+y \n",
    "\n",
    "myFunc7(3,5)"
   ]
  },
  {
   "cell_type": "markdown",
   "metadata": {},
   "source": [
    "#### Caculate GC content of given sequence"
   ]
  },
  {
   "cell_type": "code",
   "execution_count": 6,
   "metadata": {},
   "outputs": [
    {
     "name": "stdout",
     "output_type": "stream",
     "text": [
      "60.61\n"
     ]
    }
   ],
   "source": [
    "def GCcontent(seq):\n",
    "    G_count = seq.count(\"G\")\n",
    "    C_count = seq.count(\"C\")\n",
    "    gc = ((G_count + C_count) / len(seq)) * 100.0\n",
    "    return gc\n",
    "\n",
    "gc = GCcontent(\"AGCTAGCTAGCTAGCTACGTCAGTCAGGGCCCC\")\n",
    "print(\"%.2f\" % gc)"
   ]
  },
  {
   "cell_type": "code",
   "execution_count": null,
   "metadata": {},
   "outputs": [],
   "source": []
  }
 ],
 "metadata": {
  "kernelspec": {
   "display_name": "Python 3",
   "language": "python",
   "name": "python3"
  },
  "language_info": {
   "codemirror_mode": {
    "name": "ipython",
    "version": 3
   },
   "file_extension": ".py",
   "mimetype": "text/x-python",
   "name": "python",
   "nbconvert_exporter": "python",
   "pygments_lexer": "ipython3",
   "version": "3.5.5"
  }
 },
 "nbformat": 4,
 "nbformat_minor": 2
}
